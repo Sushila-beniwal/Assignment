{
 "cells": [
  {
   "cell_type": "code",
   "execution_count": null,
   "id": "c2255330-abfa-4987-9684-0826193430c8",
   "metadata": {},
   "outputs": [],
   "source": [
    "#Ques 1st\n",
    "#two type of comment first is by using #\n",
    "\"\"\" and second of using \"\"\""
   ]
  },
  {
   "cell_type": "code",
   "execution_count": 1,
   "id": "435ac03e-68c4-433c-9b39-924687f04724",
   "metadata": {},
   "outputs": [],
   "source": [
    "#Ques 2nd\n",
    "# variable work as container in memory space to store data\n",
    "variable_name = \"data_value\""
   ]
  },
  {
   "cell_type": "code",
   "execution_count": 2,
   "id": "87c92643-0a05-4345-b9ba-104a437b085d",
   "metadata": {},
   "outputs": [],
   "source": [
    "#Ques 3rd\n",
    "#by type casting\n",
    "a = 9"
   ]
  },
  {
   "cell_type": "code",
   "execution_count": 3,
   "id": "c6e9bca6-8cfb-4ce9-9091-ff45b447e5ca",
   "metadata": {},
   "outputs": [
    {
     "data": {
      "text/plain": [
       "int"
      ]
     },
     "execution_count": 3,
     "metadata": {},
     "output_type": "execute_result"
    }
   ],
   "source": [
    "type(a)"
   ]
  },
  {
   "cell_type": "code",
   "execution_count": 6,
   "id": "c769188d-d3a9-44ba-ba74-5e789b75a4fa",
   "metadata": {},
   "outputs": [],
   "source": [
    "b = str(a)"
   ]
  },
  {
   "cell_type": "code",
   "execution_count": 7,
   "id": "3b943802-798a-467d-93a9-c0a492d86d16",
   "metadata": {},
   "outputs": [
    {
     "data": {
      "text/plain": [
       "str"
      ]
     },
     "execution_count": 7,
     "metadata": {},
     "output_type": "execute_result"
    }
   ],
   "source": [
    "type(b)"
   ]
  },
  {
   "cell_type": "code",
   "execution_count": 8,
   "id": "84cc2231-7ef9-4526-8a22-8a247a762420",
   "metadata": {},
   "outputs": [
    {
     "ename": "ValueError",
     "evalue": "invalid literal for int() with base 10: 'data_science'",
     "output_type": "error",
     "traceback": [
      "\u001b[0;31m---------------------------------------------------------------------------\u001b[0m",
      "\u001b[0;31mValueError\u001b[0m                                Traceback (most recent call last)",
      "Cell \u001b[0;32mIn[8], line 2\u001b[0m\n\u001b[1;32m      1\u001b[0m c \u001b[38;5;241m=\u001b[39m \u001b[38;5;124m\"\u001b[39m\u001b[38;5;124mdata_science\u001b[39m\u001b[38;5;124m\"\u001b[39m\n\u001b[0;32m----> 2\u001b[0m d \u001b[38;5;241m=\u001b[39m \u001b[38;5;28;43mint\u001b[39;49m\u001b[43m(\u001b[49m\u001b[43mc\u001b[49m\u001b[43m)\u001b[49m\n",
      "\u001b[0;31mValueError\u001b[0m: invalid literal for int() with base 10: 'data_science'"
     ]
    }
   ],
   "source": [
    "c = \"data_science\"\n",
    "d = int(c) #as we can see we can't convert string into int data type"
   ]
  },
  {
   "cell_type": "code",
   "execution_count": null,
   "id": "bfe2d248-7073-4630-99ae-f477150fc1d7",
   "metadata": {},
   "outputs": [],
   "source": [
    "#Ques 4th\n",
    "script_name followed by .py"
   ]
  },
  {
   "cell_type": "code",
   "execution_count": 9,
   "id": "d79548be-125e-47d9-87a0-5d6d04ae7e73",
   "metadata": {},
   "outputs": [],
   "source": [
    "#Ques 5th\n",
    "my_list = [1,2,3,4,5]"
   ]
  },
  {
   "cell_type": "code",
   "execution_count": 10,
   "id": "a07e44f2-4685-42dd-80bf-c7a4e73111cf",
   "metadata": {},
   "outputs": [
    {
     "data": {
      "text/plain": [
       "[2, 3]"
      ]
     },
     "execution_count": 10,
     "metadata": {},
     "output_type": "execute_result"
    }
   ],
   "source": [
    "my_list[1:3]"
   ]
  },
  {
   "cell_type": "code",
   "execution_count": 12,
   "id": "d50d275a-8fb6-44ea-8d6a-c1921f3812ac",
   "metadata": {},
   "outputs": [],
   "source": [
    "#ques 6th\n",
    "# complex number is  number which are having two part one is real and other is called imaginary in math we write it as a+bi\n",
    "#but in python\n",
    "complex_number = 3+4j\n",
    "    \n"
   ]
  },
  {
   "cell_type": "code",
   "execution_count": 13,
   "id": "ad73b70d-15da-445b-aa2d-145acab5cbae",
   "metadata": {},
   "outputs": [],
   "source": [
    "#ques 7th\n",
    "age = 25"
   ]
  },
  {
   "cell_type": "code",
   "execution_count": 14,
   "id": "1d6331ce-b20f-4f80-bbe0-b8d28dd715c5",
   "metadata": {},
   "outputs": [],
   "source": [
    "#ques 8th\n",
    "price = 9.99\n",
    "data_type = type(price)"
   ]
  },
  {
   "cell_type": "code",
   "execution_count": 15,
   "id": "8b029ce3-83e1-41fc-a6b1-9502f82e0a85",
   "metadata": {},
   "outputs": [
    {
     "data": {
      "text/plain": [
       "float"
      ]
     },
     "execution_count": 15,
     "metadata": {},
     "output_type": "execute_result"
    }
   ],
   "source": [
    "data_type"
   ]
  },
  {
   "cell_type": "code",
   "execution_count": 16,
   "id": "b88a80fe-8af8-4214-a36f-b8fd671f9a94",
   "metadata": {},
   "outputs": [],
   "source": [
    "#ques 9th\n",
    "name = \"sushila Beniwal\""
   ]
  },
  {
   "cell_type": "code",
   "execution_count": 17,
   "id": "cdfc021f-aab5-4f90-b491-d409080ba2e3",
   "metadata": {},
   "outputs": [
    {
     "data": {
      "text/plain": [
       "'sushila Beniwal'"
      ]
     },
     "execution_count": 17,
     "metadata": {},
     "output_type": "execute_result"
    }
   ],
   "source": [
    "name"
   ]
  },
  {
   "cell_type": "code",
   "execution_count": 18,
   "id": "159f11d5-d43d-4c7c-8e7e-65bdb01a182c",
   "metadata": {},
   "outputs": [],
   "source": [
    "#ques 10th\n",
    "string = \"Hello,World\""
   ]
  },
  {
   "cell_type": "code",
   "execution_count": 19,
   "id": "fbf21852-58d6-4ef2-a023-7e05b7263b31",
   "metadata": {},
   "outputs": [
    {
     "ename": "NameError",
     "evalue": "name 'W' is not defined",
     "output_type": "error",
     "traceback": [
      "\u001b[0;31m---------------------------------------------------------------------------\u001b[0m",
      "\u001b[0;31mNameError\u001b[0m                                 Traceback (most recent call last)",
      "Cell \u001b[0;32mIn[19], line 1\u001b[0m\n\u001b[0;32m----> 1\u001b[0m s \u001b[38;5;241m=\u001b[39m string\u001b[38;5;241m.\u001b[39mindex(\u001b[43mW\u001b[49m)\n",
      "\u001b[0;31mNameError\u001b[0m: name 'W' is not defined"
     ]
    }
   ],
   "source": [
    "s = string.index(')"
   ]
  },
  {
   "cell_type": "code",
   "execution_count": null,
   "id": "7fe4d4be-653b-46e6-a6a6-34eef86ed80e",
   "metadata": {},
   "outputs": [],
   "source": []
  }
 ],
 "metadata": {
  "kernelspec": {
   "display_name": "Python 3 (ipykernel)",
   "language": "python",
   "name": "python3"
  },
  "language_info": {
   "codemirror_mode": {
    "name": "ipython",
    "version": 3
   },
   "file_extension": ".py",
   "mimetype": "text/x-python",
   "name": "python",
   "nbconvert_exporter": "python",
   "pygments_lexer": "ipython3",
   "version": "3.10.8"
  }
 },
 "nbformat": 4,
 "nbformat_minor": 5
}
