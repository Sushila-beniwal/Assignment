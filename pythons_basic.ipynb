{
 "cells": [
  {
   "cell_type": "code",
   "execution_count": 1,
   "id": "91fb313a",
   "metadata": {},
   "outputs": [],
   "source": [
    "l=[1,6,5+6j,'sushila','manju',3.78]"
   ]
  },
  {
   "cell_type": "code",
   "execution_count": 2,
   "id": "dcbd499c",
   "metadata": {},
   "outputs": [
    {
     "data": {
      "text/plain": [
       "list"
      ]
     },
     "execution_count": 2,
     "metadata": {},
     "output_type": "execute_result"
    }
   ],
   "source": [
    "type(l)"
   ]
  },
  {
   "cell_type": "code",
   "execution_count": 3,
   "id": "9ac15db3",
   "metadata": {},
   "outputs": [
    {
     "data": {
      "text/plain": [
       "5.0"
      ]
     },
     "execution_count": 3,
     "metadata": {},
     "output_type": "execute_result"
    }
   ],
   "source": [
    "l[2].real"
   ]
  },
  {
   "cell_type": "code",
   "execution_count": 4,
   "id": "bd2fefaf",
   "metadata": {},
   "outputs": [
    {
     "data": {
      "text/plain": [
       "[1, 6, (5+6j), 'sushila', 'manju', 3.78]"
      ]
     },
     "execution_count": 4,
     "metadata": {},
     "output_type": "execute_result"
    }
   ],
   "source": [
    "l[0:]"
   ]
  },
  {
   "cell_type": "code",
   "execution_count": 5,
   "id": "fce55925",
   "metadata": {},
   "outputs": [
    {
     "data": {
      "text/plain": [
       "[1, 6, (5+6j), 'sushila', 'manju']"
      ]
     },
     "execution_count": 5,
     "metadata": {},
     "output_type": "execute_result"
    }
   ],
   "source": [
    "l[:-1]"
   ]
  },
  {
   "cell_type": "code",
   "execution_count": 6,
   "id": "a75a7cf3",
   "metadata": {},
   "outputs": [
    {
     "data": {
      "text/plain": [
       "[3.78]"
      ]
     },
     "execution_count": 6,
     "metadata": {},
     "output_type": "execute_result"
    }
   ],
   "source": [
    "l[-1:]"
   ]
  },
  {
   "cell_type": "code",
   "execution_count": 7,
   "id": "bc3d210e",
   "metadata": {},
   "outputs": [
    {
     "data": {
      "text/plain": [
       "[]"
      ]
     },
     "execution_count": 7,
     "metadata": {},
     "output_type": "execute_result"
    }
   ],
   "source": [
    "l[-1:-1:]"
   ]
  },
  {
   "cell_type": "code",
   "execution_count": 8,
   "id": "a88dafd6",
   "metadata": {},
   "outputs": [
    {
     "data": {
      "text/plain": [
       "[3.78, 'manju', 'sushila', (5+6j), 6, 1]"
      ]
     },
     "execution_count": 8,
     "metadata": {},
     "output_type": "execute_result"
    }
   ],
   "source": [
    "l[: :-1]"
   ]
  },
  {
   "cell_type": "code",
   "execution_count": 9,
   "id": "f8c2a519",
   "metadata": {},
   "outputs": [
    {
     "data": {
      "text/plain": [
       "[1, (5+6j), 'manju']"
      ]
     },
     "execution_count": 9,
     "metadata": {},
     "output_type": "execute_result"
    }
   ],
   "source": [
    "l[::2]"
   ]
  },
  {
   "cell_type": "code",
   "execution_count": 10,
   "id": "359ea935",
   "metadata": {},
   "outputs": [],
   "source": [
    "s=\"sushil\""
   ]
  },
  {
   "cell_type": "code",
   "execution_count": 11,
   "id": "c138cc81",
   "metadata": {},
   "outputs": [
    {
     "data": {
      "text/plain": [
       "'sushila'"
      ]
     },
     "execution_count": 11,
     "metadata": {},
     "output_type": "execute_result"
    }
   ],
   "source": [
    "s+'a'"
   ]
  },
  {
   "cell_type": "code",
   "execution_count": 12,
   "id": "da8725f4",
   "metadata": {},
   "outputs": [
    {
     "data": {
      "text/plain": [
       "['s', 'u', 's', 'h', 'i', 'l']"
      ]
     },
     "execution_count": 12,
     "metadata": {},
     "output_type": "execute_result"
    }
   ],
   "source": [
    "list(s)"
   ]
  },
  {
   "cell_type": "code",
   "execution_count": 13,
   "id": "a5bb7687",
   "metadata": {},
   "outputs": [
    {
     "data": {
      "text/plain": [
       "['s', 'u', 's', 'h', 'i', 'l', 'a']"
      ]
     },
     "execution_count": 13,
     "metadata": {},
     "output_type": "execute_result"
    }
   ],
   "source": [
    "list(s)+list('a')"
   ]
  },
  {
   "cell_type": "code",
   "execution_count": 14,
   "id": "3110eb5e",
   "metadata": {},
   "outputs": [
    {
     "data": {
      "text/plain": [
       "[1,\n",
       " 6,\n",
       " (5+6j),\n",
       " 'sushila',\n",
       " 'manju',\n",
       " 3.78,\n",
       " 1,\n",
       " 6,\n",
       " (5+6j),\n",
       " 'sushila',\n",
       " 'manju',\n",
       " 3.78,\n",
       " 1,\n",
       " 6,\n",
       " (5+6j),\n",
       " 'sushila',\n",
       " 'manju',\n",
       " 3.78]"
      ]
     },
     "execution_count": 14,
     "metadata": {},
     "output_type": "execute_result"
    }
   ],
   "source": [
    "l*3"
   ]
  },
  {
   "cell_type": "code",
   "execution_count": 15,
   "id": "be4c3824",
   "metadata": {},
   "outputs": [],
   "source": [
    "l.append(5)"
   ]
  },
  {
   "cell_type": "code",
   "execution_count": 16,
   "id": "c9fbefd1",
   "metadata": {},
   "outputs": [
    {
     "data": {
      "text/plain": [
       "[1, 6, (5+6j), 'sushila', 'manju', 3.78, 5]"
      ]
     },
     "execution_count": 16,
     "metadata": {},
     "output_type": "execute_result"
    }
   ],
   "source": [
    "l"
   ]
  },
  {
   "cell_type": "code",
   "execution_count": 17,
   "id": "8d46c1a3",
   "metadata": {},
   "outputs": [
    {
     "data": {
      "text/plain": [
       "7"
      ]
     },
     "execution_count": 17,
     "metadata": {},
     "output_type": "execute_result"
    }
   ],
   "source": [
    "len(l)"
   ]
  },
  {
   "cell_type": "code",
   "execution_count": 18,
   "id": "a3cd1a21",
   "metadata": {},
   "outputs": [],
   "source": [
    "l.append(list(s))"
   ]
  },
  {
   "cell_type": "code",
   "execution_count": 19,
   "id": "c239465f",
   "metadata": {},
   "outputs": [
    {
     "data": {
      "text/plain": [
       "[1, 6, (5+6j), 'sushila', 'manju', 3.78, 5, ['s', 'u', 's', 'h', 'i', 'l']]"
      ]
     },
     "execution_count": 19,
     "metadata": {},
     "output_type": "execute_result"
    }
   ],
   "source": [
    "l"
   ]
  },
  {
   "cell_type": "code",
   "execution_count": 20,
   "id": "8ad66c32",
   "metadata": {},
   "outputs": [
    {
     "data": {
      "text/plain": [
       "'i'"
      ]
     },
     "execution_count": 20,
     "metadata": {},
     "output_type": "execute_result"
    }
   ],
   "source": [
    "l[-1][4]"
   ]
  },
  {
   "cell_type": "code",
   "execution_count": 21,
   "id": "b6b11314",
   "metadata": {},
   "outputs": [],
   "source": [
    "l.extend(s)"
   ]
  },
  {
   "cell_type": "code",
   "execution_count": 22,
   "id": "1afae194",
   "metadata": {},
   "outputs": [
    {
     "data": {
      "text/plain": [
       "[1,\n",
       " 6,\n",
       " (5+6j),\n",
       " 'sushila',\n",
       " 'manju',\n",
       " 3.78,\n",
       " 5,\n",
       " ['s', 'u', 's', 'h', 'i', 'l'],\n",
       " 's',\n",
       " 'u',\n",
       " 's',\n",
       " 'h',\n",
       " 'i',\n",
       " 'l']"
      ]
     },
     "execution_count": 22,
     "metadata": {},
     "output_type": "execute_result"
    }
   ],
   "source": [
    "l"
   ]
  },
  {
   "cell_type": "code",
   "execution_count": 23,
   "id": "3a66545d",
   "metadata": {},
   "outputs": [],
   "source": [
    "l.insert(1,'panda')"
   ]
  },
  {
   "cell_type": "code",
   "execution_count": 24,
   "id": "de11522b",
   "metadata": {},
   "outputs": [],
   "source": [
    "l.insert(2,'numpy')"
   ]
  },
  {
   "cell_type": "code",
   "execution_count": 25,
   "id": "7ba7f5d4",
   "metadata": {},
   "outputs": [
    {
     "data": {
      "text/plain": [
       "'l'"
      ]
     },
     "execution_count": 25,
     "metadata": {},
     "output_type": "execute_result"
    }
   ],
   "source": [
    "l.pop()"
   ]
  },
  {
   "cell_type": "code",
   "execution_count": 26,
   "id": "fffeeb72",
   "metadata": {},
   "outputs": [
    {
     "data": {
      "text/plain": [
       "'numpy'"
      ]
     },
     "execution_count": 26,
     "metadata": {},
     "output_type": "execute_result"
    }
   ],
   "source": [
    "l.pop(2)"
   ]
  },
  {
   "cell_type": "code",
   "execution_count": 27,
   "id": "098a4def",
   "metadata": {},
   "outputs": [],
   "source": [
    "l.remove('manju')"
   ]
  },
  {
   "cell_type": "code",
   "execution_count": 28,
   "id": "a38b4dbe",
   "metadata": {},
   "outputs": [
    {
     "data": {
      "text/plain": [
       "[1,\n",
       " 'panda',\n",
       " 6,\n",
       " (5+6j),\n",
       " 'sushila',\n",
       " 3.78,\n",
       " 5,\n",
       " ['s', 'u', 's', 'h', 'i', 'l'],\n",
       " 's',\n",
       " 'u',\n",
       " 's',\n",
       " 'h',\n",
       " 'i']"
      ]
     },
     "execution_count": 28,
     "metadata": {},
     "output_type": "execute_result"
    }
   ],
   "source": [
    "l"
   ]
  },
  {
   "cell_type": "code",
   "execution_count": 29,
   "id": "91d88f66",
   "metadata": {},
   "outputs": [],
   "source": [
    "l.reverse()"
   ]
  },
  {
   "cell_type": "code",
   "execution_count": 30,
   "id": "4ba79b3b",
   "metadata": {},
   "outputs": [
    {
     "data": {
      "text/plain": [
       "['i',\n",
       " 'h',\n",
       " 's',\n",
       " 'u',\n",
       " 's',\n",
       " ['s', 'u', 's', 'h', 'i', 'l'],\n",
       " 5,\n",
       " 3.78,\n",
       " 'sushila',\n",
       " (5+6j),\n",
       " 6,\n",
       " 'panda',\n",
       " 1]"
      ]
     },
     "execution_count": 30,
     "metadata": {},
     "output_type": "execute_result"
    }
   ],
   "source": [
    "l"
   ]
  },
  {
   "cell_type": "code",
   "execution_count": 31,
   "id": "351209f4",
   "metadata": {},
   "outputs": [
    {
     "ename": "TypeError",
     "evalue": "'<' not supported between instances of 'list' and 'str'",
     "output_type": "error",
     "traceback": [
      "\u001b[1;31m---------------------------------------------------------------------------\u001b[0m",
      "\u001b[1;31mTypeError\u001b[0m                                 Traceback (most recent call last)",
      "Cell \u001b[1;32mIn[31], line 1\u001b[0m\n\u001b[1;32m----> 1\u001b[0m l\u001b[38;5;241m.\u001b[39msort()\n",
      "\u001b[1;31mTypeError\u001b[0m: '<' not supported between instances of 'list' and 'str'"
     ]
    }
   ],
   "source": [
    "l.sort()"
   ]
  },
  {
   "cell_type": "code",
   "execution_count": null,
   "id": "202a4481",
   "metadata": {},
   "outputs": [],
   "source": [
    "l1=[4,9,2,0,6,7]"
   ]
  },
  {
   "cell_type": "code",
   "execution_count": null,
   "id": "f208cefe",
   "metadata": {},
   "outputs": [],
   "source": [
    "l1.reverse()"
   ]
  },
  {
   "cell_type": "code",
   "execution_count": null,
   "id": "da0730d9",
   "metadata": {},
   "outputs": [],
   "source": [
    "l1"
   ]
  },
  {
   "cell_type": "code",
   "execution_count": null,
   "id": "b331bbcf",
   "metadata": {},
   "outputs": [],
   "source": [
    "l1.sort()"
   ]
  },
  {
   "cell_type": "code",
   "execution_count": null,
   "id": "38c2e3b9",
   "metadata": {},
   "outputs": [],
   "source": [
    "l1"
   ]
  },
  {
   "cell_type": "code",
   "execution_count": null,
   "id": "81c3469c",
   "metadata": {},
   "outputs": [],
   "source": [
    "l1.sort(reverse=True)"
   ]
  },
  {
   "cell_type": "code",
   "execution_count": null,
   "id": "f8a09f0c",
   "metadata": {},
   "outputs": [],
   "source": [
    "l1"
   ]
  },
  {
   "cell_type": "code",
   "execution_count": null,
   "id": "450ab03e",
   "metadata": {},
   "outputs": [],
   "source": [
    "l.index(\"sushila\")"
   ]
  },
  {
   "cell_type": "code",
   "execution_count": null,
   "id": "8e861760",
   "metadata": {},
   "outputs": [],
   "source": [
    "l1[0]=100"
   ]
  },
  {
   "cell_type": "code",
   "execution_count": null,
   "id": "a03dccb7",
   "metadata": {},
   "outputs": [],
   "source": [
    "l1"
   ]
  },
  {
   "cell_type": "code",
   "execution_count": null,
   "id": "0a3a0a7d",
   "metadata": {},
   "outputs": [],
   "source": [
    "s[0]='v'"
   ]
  },
  {
   "cell_type": "code",
   "execution_count": null,
   "id": "4c42361c",
   "metadata": {},
   "outputs": [],
   "source": [
    "s.replace('s','v')"
   ]
  },
  {
   "cell_type": "code",
   "execution_count": null,
   "id": "c2b33e50",
   "metadata": {},
   "outputs": [],
   "source": [
    "l.count('sushila')"
   ]
  },
  {
   "cell_type": "code",
   "execution_count": null,
   "id": "88c16d31",
   "metadata": {},
   "outputs": [],
   "source": [
    "l"
   ]
  },
  {
   "cell_type": "code",
   "execution_count": null,
   "id": "198e1074",
   "metadata": {},
   "outputs": [],
   "source": [
    "d={}"
   ]
  },
  {
   "cell_type": "code",
   "execution_count": null,
   "id": "bb71072d",
   "metadata": {},
   "outputs": [],
   "source": [
    "type(d)"
   ]
  },
  {
   "cell_type": "code",
   "execution_count": null,
   "id": "f392ba91",
   "metadata": {},
   "outputs": [],
   "source": [
    "d={3,8,9,3}"
   ]
  },
  {
   "cell_type": "code",
   "execution_count": null,
   "id": "5b70c457",
   "metadata": {},
   "outputs": [],
   "source": [
    "type(d)"
   ]
  },
  {
   "cell_type": "code",
   "execution_count": null,
   "id": "8fb8fcbf",
   "metadata": {},
   "outputs": [],
   "source": [
    "d[0]=10 ##set object not support item assignment"
   ]
  },
  {
   "cell_type": "code",
   "execution_count": null,
   "id": "294f4d56",
   "metadata": {},
   "outputs": [],
   "source": [
    "tuple=('d','a','t','a','s','c','i','e','n','c','e')"
   ]
  },
  {
   "cell_type": "code",
   "execution_count": null,
   "id": "1f8bf869",
   "metadata": {},
   "outputs": [],
   "source": [
    "tuple[-1]='sushila'"
   ]
  },
  {
   "cell_type": "markdown",
   "id": "1635088d",
   "metadata": {},
   "source": [
    "##dictionary"
   ]
  },
  {
   "cell_type": "code",
   "execution_count": null,
   "id": "d1431e3a",
   "metadata": {},
   "outputs": [],
   "source": [
    "d={'key':'value'}"
   ]
  },
  {
   "cell_type": "code",
   "execution_count": null,
   "id": "ed742294",
   "metadata": {},
   "outputs": [],
   "source": [
    "d1={'name':\"sushila\",'email':\"abc@gmail.com\",'number':1234789}"
   ]
  },
  {
   "cell_type": "code",
   "execution_count": null,
   "id": "d87fe878",
   "metadata": {},
   "outputs": [],
   "source": [
    "d1.items()"
   ]
  },
  {
   "cell_type": "code",
   "execution_count": null,
   "id": "229a7503",
   "metadata": {},
   "outputs": [],
   "source": [
    "d1.keys()"
   ]
  },
  {
   "cell_type": "code",
   "execution_count": null,
   "id": "1be60f6c",
   "metadata": {},
   "outputs": [],
   "source": [
    "d1.values()"
   ]
  },
  {
   "cell_type": "code",
   "execution_count": null,
   "id": "ae6f82f9",
   "metadata": {},
   "outputs": [],
   "source": [
    "d1['name']"
   ]
  },
  {
   "cell_type": "code",
   "execution_count": null,
   "id": "bfd4ecf0",
   "metadata": {},
   "outputs": [],
   "source": [
    "d1.pop('number')"
   ]
  },
  {
   "cell_type": "code",
   "execution_count": null,
   "id": "7817a73c",
   "metadata": {},
   "outputs": [],
   "source": [
    "d1"
   ]
  },
  {
   "cell_type": "code",
   "execution_count": null,
   "id": "a09517b9",
   "metadata": {},
   "outputs": [],
   "source": [
    "marks=int(input(\"enter your marks: \"))"
   ]
  },
  {
   "cell_type": "code",
   "execution_count": null,
   "id": "63d27b11",
   "metadata": {},
   "outputs": [],
   "source": [
    "marks"
   ]
  },
  {
   "cell_type": "code",
   "execution_count": null,
   "id": "7d0c90d4",
   "metadata": {},
   "outputs": [],
   "source": [
    "d1.fromkeys([1,7,'name'])"
   ]
  },
  {
   "cell_type": "markdown",
   "id": "6bee0963",
   "metadata": {},
   "source": [
    "##functions"
   ]
  },
  {
   "cell_type": "code",
   "execution_count": null,
   "id": "5aaf174d",
   "metadata": {},
   "outputs": [],
   "source": [
    "def test():\n",
    "    pass"
   ]
  },
  {
   "cell_type": "code",
   "execution_count": null,
   "id": "00e65757",
   "metadata": {},
   "outputs": [],
   "source": [
    "def test1():\n",
    "    print(\"sushila is a future data scientist\")"
   ]
  },
  {
   "cell_type": "code",
   "execution_count": null,
   "id": "ab9b4c90",
   "metadata": {},
   "outputs": [],
   "source": [
    "test1()"
   ]
  },
  {
   "cell_type": "code",
   "execution_count": null,
   "id": "766fb755",
   "metadata": {},
   "outputs": [],
   "source": [
    "def test2('name'):\n",
    "    print(f\"{name}is a future data scientist\");\n"
   ]
  },
  {
   "cell_type": "code",
   "execution_count": null,
   "id": "38aa3945",
   "metadata": {},
   "outputs": [],
   "source": [
    "def test4(*args,s):\n",
    "    return args,s"
   ]
  },
  {
   "cell_type": "code",
   "execution_count": null,
   "id": "1836a8b5",
   "metadata": {},
   "outputs": [],
   "source": [
    "test4(1,3,6,8,789)"
   ]
  },
  {
   "cell_type": "code",
   "execution_count": null,
   "id": "15acead1",
   "metadata": {},
   "outputs": [],
   "source": [
    "test4(1,3,6,8,a=789)"
   ]
  },
  {
   "cell_type": "code",
   "execution_count": null,
   "id": "48604d1a",
   "metadata": {},
   "outputs": [],
   "source": [
    "def test5(**kwargs):\n",
    "    return kwargs"
   ]
  },
  {
   "cell_type": "code",
   "execution_count": null,
   "id": "224d25c6",
   "metadata": {},
   "outputs": [],
   "source": [
    "test5(a=[8,9,0],b=\"sushila\",c:data scientist)"
   ]
  },
  {
   "cell_type": "code",
   "execution_count": null,
   "id": "a83ac799",
   "metadata": {},
   "outputs": [],
   "source": [
    "for i in range(10):\n",
    "    print(i)"
   ]
  },
  {
   "cell_type": "code",
   "execution_count": null,
   "id": "73d254bc",
   "metadata": {},
   "outputs": [],
   "source": [
    "def fibo(n):\n",
    "    a,b=0,1\n",
    "    for i in range(n):\n",
    "        yeild a;\n",
    "        a,b=b,a+b"
   ]
  },
  {
   "cell_type": "code",
   "execution_count": null,
   "id": "e62595c3",
   "metadata": {},
   "outputs": [],
   "source": [
    "for i in fibo(10):\n",
    "    print(i)"
   ]
  },
  {
   "cell_type": "code",
   "execution_count": null,
   "id": "e2e4e01d",
   "metadata": {},
   "outputs": [],
   "source": [
    "type(fibo)"
   ]
  },
  {
   "cell_type": "code",
   "execution_count": null,
   "id": "28168069",
   "metadata": {},
   "outputs": [],
   "source": [
    "s=\"sushila\""
   ]
  },
  {
   "cell_type": "code",
   "execution_count": null,
   "id": "27d9c103",
   "metadata": {},
   "outputs": [],
   "source": [
    "next(s)"
   ]
  },
  {
   "cell_type": "code",
   "execution_count": null,
   "id": "caf6da2f",
   "metadata": {},
   "outputs": [],
   "source": [
    "s=iter(s)"
   ]
  },
  {
   "cell_type": "code",
   "execution_count": null,
   "id": "180d5db7",
   "metadata": {},
   "outputs": [],
   "source": [
    "next(s)"
   ]
  },
  {
   "cell_type": "code",
   "execution_count": null,
   "id": "cdb29b4a",
   "metadata": {},
   "outputs": [],
   "source": [
    "def lam(n,p):\n",
    "    return n**p"
   ]
  },
  {
   "cell_type": "code",
   "execution_count": null,
   "id": "b97d3449",
   "metadata": {},
   "outputs": [],
   "source": [
    "lam(2,3)"
   ]
  },
  {
   "cell_type": "markdown",
   "id": "9094e0dd",
   "metadata": {},
   "source": [
    "## lambda"
   ]
  },
  {
   "cell_type": "code",
   "execution_count": null,
   "id": "34b278a8",
   "metadata": {},
   "outputs": [],
   "source": [
    "a=lambda n,p:n**p"
   ]
  },
  {
   "cell_type": "code",
   "execution_count": null,
   "id": "6e6fc489",
   "metadata": {},
   "outputs": [],
   "source": [
    "b=lambda x,y:x+y"
   ]
  },
  {
   "cell_type": "code",
   "execution_count": null,
   "id": "bf5d1e25",
   "metadata": {},
   "outputs": [],
   "source": [
    "a(3,4),b(3,4)"
   ]
  },
  {
   "cell_type": "code",
   "execution_count": null,
   "id": "66146f58",
   "metadata": {},
   "outputs": [],
   "source": [
    "c_to_f=lambda c:(9/5)*c+32"
   ]
  },
  {
   "cell_type": "code",
   "execution_count": null,
   "id": "ae76d5b5",
   "metadata": {},
   "outputs": [],
   "source": [
    "c_to_f(45)"
   ]
  },
  {
   "cell_type": "code",
   "execution_count": null,
   "id": "8a5ec9f1",
   "metadata": {},
   "outputs": [],
   "source": [
    "finding_max = lambda x,y : x if x>y else y"
   ]
  },
  {
   "cell_type": "code",
   "execution_count": null,
   "id": "5e45c9da",
   "metadata": {},
   "outputs": [],
   "source": [
    "finding_max(34,23)"
   ]
  },
  {
   "cell_type": "code",
   "execution_count": null,
   "id": "c64ddab7",
   "metadata": {},
   "outputs": [],
   "source": [
    "s=\"data science\"\n",
    "find_len=lambda x:len(x)"
   ]
  },
  {
   "cell_type": "code",
   "execution_count": null,
   "id": "441387cb",
   "metadata": {},
   "outputs": [],
   "source": [
    "find_len(x)"
   ]
  },
  {
   "cell_type": "markdown",
   "id": "27e84701",
   "metadata": {},
   "source": [
    "##map reduce and filter"
   ]
  },
  {
   "cell_type": "code",
   "execution_count": null,
   "id": "41b82b20",
   "metadata": {},
   "outputs": [],
   "source": [
    "l = [2,3,4,5,6]"
   ]
  },
  {
   "cell_type": "code",
   "execution_count": null,
   "id": "28bdf3b3",
   "metadata": {},
   "outputs": [],
   "source": [
    "def test(l):\n",
    "    l1 = []\n",
    "    for i in l :\n",
    "        l1.append(i**2)\n",
    "    return l1"
   ]
  },
  {
   "cell_type": "code",
   "execution_count": null,
   "id": "1f0ebfba",
   "metadata": {},
   "outputs": [],
   "source": [
    "test(l)"
   ]
  },
  {
   "cell_type": "code",
   "execution_count": null,
   "id": "5d956c63",
   "metadata": {},
   "outputs": [],
   "source": [
    "def sqr(x):\n",
    "    return x**2"
   ]
  },
  {
   "cell_type": "code",
   "execution_count": null,
   "id": "9cb093df",
   "metadata": {},
   "outputs": [],
   "source": [
    "list(map(sq,l))"
   ]
  },
  {
   "cell_type": "code",
   "execution_count": null,
   "id": "75c2a3df",
   "metadata": {},
   "outputs": [],
   "source": [
    "list(map(lambda x : x**2 , l))"
   ]
  },
  {
   "cell_type": "code",
   "execution_count": null,
   "id": "b8db5161",
   "metadata": {},
   "outputs": [],
   "source": [
    "l1 = [1,2,3,4,5]\n",
    "l2 = [6,7,8,9,10]\n",
    "\n",
    "list(map(lambda x , y : x+y , l1 , l2 ))"
   ]
  },
  {
   "cell_type": "code",
   "execution_count": null,
   "id": "17370d2a",
   "metadata": {},
   "outputs": [],
   "source": [
    "def add(x,y):\n",
    "    return x+y"
   ]
  },
  {
   "cell_type": "code",
   "execution_count": null,
   "id": "12af2ebf",
   "metadata": {},
   "outputs": [],
   "source": [
    "list(map(add,l1,l2))"
   ]
  },
  {
   "cell_type": "code",
   "execution_count": null,
   "id": "d297e2d0",
   "metadata": {},
   "outputs": [],
   "source": [
    "\n",
    "list(map(lambda s : s.upper() , s))"
   ]
  },
  {
   "cell_type": "code",
   "execution_count": null,
   "id": "ea21daf4",
   "metadata": {},
   "outputs": [],
   "source": [
    "from functools import  reduce"
   ]
  },
  {
   "cell_type": "code",
   "execution_count": null,
   "id": "8d6f265f",
   "metadata": {},
   "outputs": [],
   "source": [
    "l = [1,2,3,3,4,5,6,6]"
   ]
  },
  {
   "cell_type": "code",
   "execution_count": null,
   "id": "be3aab63",
   "metadata": {},
   "outputs": [],
   "source": [
    "reduce(lambda x,y:x+y,l)"
   ]
  },
  {
   "cell_type": "code",
   "execution_count": null,
   "id": "1f804047",
   "metadata": {},
   "outputs": [],
   "source": [
    "reduce(lambda x,y:x if x>y else y,l)"
   ]
  },
  {
   "cell_type": "code",
   "execution_count": null,
   "id": "b8294865",
   "metadata": {},
   "outputs": [],
   "source": [
    "list(filter(lambda x:x%2==0,l))"
   ]
  },
  {
   "cell_type": "markdown",
   "id": "69be2926",
   "metadata": {},
   "source": [
    "OOPS"
   ]
  },
  {
   "cell_type": "code",
   "execution_count": null,
   "id": "561391ba",
   "metadata": {},
   "outputs": [],
   "source": [
    "a=7"
   ]
  },
  {
   "cell_type": "code",
   "execution_count": null,
   "id": "9ce5b2c5",
   "metadata": {},
   "outputs": [],
   "source": [
    "print(type(a))"
   ]
  },
  {
   "cell_type": "code",
   "execution_count": null,
   "id": "41720405",
   "metadata": {},
   "outputs": [],
   "source": [
    "print(type(\"sushila\"))"
   ]
  },
  {
   "cell_type": "code",
   "execution_count": null,
   "id": "b54e835f",
   "metadata": {},
   "outputs": [],
   "source": [
    "class test:\n",
    "    pass"
   ]
  },
  {
   "cell_type": "code",
   "execution_count": null,
   "id": "2267c4ba",
   "metadata": {},
   "outputs": [],
   "source": [
    "a=test()"
   ]
  },
  {
   "cell_type": "code",
   "execution_count": null,
   "id": "fef675ee",
   "metadata": {},
   "outputs": [],
   "source": [
    "type(a)"
   ]
  },
  {
   "cell_type": "code",
   "execution_count": null,
   "id": "dd485884",
   "metadata": {},
   "outputs": [],
   "source": [
    "class sushila:\n",
    "    def welcome(self):\n",
    "        print(\"welcome to my github\")"
   ]
  },
  {
   "cell_type": "code",
   "execution_count": null,
   "id": "52c05999",
   "metadata": {},
   "outputs": [],
   "source": [
    "class batch1 :\n",
    "    \n",
    "    def __init__(self ,phone_number , email_id , student_id ):\n",
    "        self.phone_number = phone_number\n",
    "        self.email_id = email_id\n",
    "        self.student_id = student_id\n",
    "    \n",
    "    def return_student_details(self) : \n",
    "        return self.student_id ,self.phone_number ,self.email_id\n",
    "    "
   ]
  },
  {
   "cell_type": "code",
   "execution_count": null,
   "id": "d41a03de",
   "metadata": {},
   "outputs": [],
   "source": [
    "stud1 = batch1(122232432342, \"stud1@gmail.com\" , 101)"
   ]
  },
  {
   "cell_type": "code",
   "execution_count": null,
   "id": "d4f00ee6",
   "metadata": {},
   "outputs": [],
   "source": [
    "stud1.email_id,stud1.phone_number"
   ]
  },
  {
   "cell_type": "code",
   "execution_count": null,
   "id": "032a4502",
   "metadata": {},
   "outputs": [],
   "source": [
    "stud1.return_student_details()"
   ]
  },
  {
   "cell_type": "code",
   "execution_count": null,
   "id": "93cf32eb",
   "metadata": {},
   "outputs": [],
   "source": [
    "def test(a , b ) :\n",
    "    return a+b "
   ]
  },
  {
   "cell_type": "code",
   "execution_count": null,
   "id": "f990edab",
   "metadata": {},
   "outputs": [],
   "source": [
    "test(3,4)"
   ]
  },
  {
   "cell_type": "code",
   "execution_count": null,
   "id": "fddedf8f",
   "metadata": {},
   "outputs": [],
   "source": [
    "test(\"sudh \" , \"kumar \" )"
   ]
  },
  {
   "cell_type": "code",
   "execution_count": null,
   "id": "be93b97b",
   "metadata": {},
   "outputs": [],
   "source": [
    "class data_science:\n",
    "    \n",
    "    def syllabus(self) : \n",
    "        print(\"this is my syllabus for data science masters \")"
   ]
  },
  {
   "cell_type": "code",
   "execution_count": null,
   "id": "856bf7d0",
   "metadata": {},
   "outputs": [],
   "source": [
    "class web_dev:\n",
    "    \n",
    "    def syllabus(self) : \n",
    "        print(\"this is  my subllabus for web dev\" )"
   ]
  },
  {
   "cell_type": "code",
   "execution_count": null,
   "id": "948fa087",
   "metadata": {},
   "outputs": [],
   "source": [
    "def class_parcer(class_obj):\n",
    "    for i in class_obj : \n",
    "        i.syllabus()"
   ]
  },
  {
   "cell_type": "code",
   "execution_count": null,
   "id": "66b4ed12",
   "metadata": {},
   "outputs": [],
   "source": [
    "data_science = data_science()"
   ]
  },
  {
   "cell_type": "code",
   "execution_count": null,
   "id": "e157c422",
   "metadata": {},
   "outputs": [],
   "source": [
    "web_dev = web_dev()"
   ]
  },
  {
   "cell_type": "code",
   "execution_count": null,
   "id": "569a8516",
   "metadata": {},
   "outputs": [],
   "source": [
    "class_obj = [data_science , web_dev]"
   ]
  },
  {
   "cell_type": "code",
   "execution_count": null,
   "id": "90c01242",
   "metadata": {},
   "outputs": [],
   "source": [
    "class_parcer(class_obj)"
   ]
  },
  {
   "cell_type": "code",
   "execution_count": null,
   "id": "0e2e8928",
   "metadata": {},
   "outputs": [],
   "source": []
  }
 ],
 "metadata": {
  "kernelspec": {
   "display_name": "Python 3 (ipykernel)",
   "language": "python",
   "name": "python3"
  },
  "language_info": {
   "codemirror_mode": {
    "name": "ipython",
    "version": 3
   },
   "file_extension": ".py",
   "mimetype": "text/x-python",
   "name": "python",
   "nbconvert_exporter": "python",
   "pygments_lexer": "ipython3",
   "version": "3.11.5"
  }
 },
 "nbformat": 4,
 "nbformat_minor": 5
}
