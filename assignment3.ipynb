{
 "cells": [
  {
   "cell_type": "code",
   "execution_count": 1,
   "id": "88c26c85-1d5d-4b77-bc42-5c26b03f1a10",
   "metadata": {},
   "outputs": [],
   "source": [
    "#ques 1 \n",
    "#def keyword is used for making a function\n",
    "list=[]\n",
    "a=range(1,51)\n",
    "def odd(a):\n",
    "    for i in a:\n",
    "        if i%2!=0:\n",
    "            list.append(i)\n",
    "    return list"
   ]
  },
  {
   "cell_type": "code",
   "execution_count": 2,
   "id": "0c1faa3c-c688-49f1-960e-f67d75f6d1af",
   "metadata": {},
   "outputs": [],
   "source": [
    "result = odd(range(1,51))"
   ]
  },
  {
   "cell_type": "code",
   "execution_count": 3,
   "id": "3de08178-168a-4d82-af32-a45c3aa3c4ad",
   "metadata": {},
   "outputs": [
    {
     "data": {
      "text/plain": [
       "[1,\n",
       " 3,\n",
       " 5,\n",
       " 7,\n",
       " 9,\n",
       " 11,\n",
       " 13,\n",
       " 15,\n",
       " 17,\n",
       " 19,\n",
       " 21,\n",
       " 23,\n",
       " 25,\n",
       " 27,\n",
       " 29,\n",
       " 31,\n",
       " 33,\n",
       " 35,\n",
       " 37,\n",
       " 39,\n",
       " 41,\n",
       " 43,\n",
       " 45,\n",
       " 47,\n",
       " 49]"
      ]
     },
     "execution_count": 3,
     "metadata": {},
     "output_type": "execute_result"
    }
   ],
   "source": [
    "result"
   ]
  },
  {
   "cell_type": "code",
   "execution_count": 4,
   "id": "badee9f6-04af-4544-b0d1-329935fabf1b",
   "metadata": {},
   "outputs": [],
   "source": [
    "#ques 2 *args represent list\n",
    "#**kwargs represent dict.\n",
    "def f1(*args):\n",
    "    return args\n",
    "\n",
    "def f2(**kwargs):\n",
    "    return kwargs"
   ]
  },
  {
   "cell_type": "code",
   "execution_count": 5,
   "id": "08be99d9-ceb9-45ca-a876-7e2acc7513b7",
   "metadata": {},
   "outputs": [],
   "source": [
    "s1 = f1(1,2,3,4,5,6)"
   ]
  },
  {
   "cell_type": "code",
   "execution_count": 6,
   "id": "43edf649-e3b4-4947-b133-e59ae361ed67",
   "metadata": {},
   "outputs": [
    {
     "data": {
      "text/plain": [
       "(1, 2, 3, 4, 5, 6)"
      ]
     },
     "execution_count": 6,
     "metadata": {},
     "output_type": "execute_result"
    }
   ],
   "source": [
    "s1"
   ]
  },
  {
   "cell_type": "code",
   "execution_count": 7,
   "id": "d72e3490-e374-4b51-931a-8d9c5512419b",
   "metadata": {},
   "outputs": [],
   "source": [
    "# see if i pass the simple data in f2 then it gives no output let us check by passing the data in form of key and value\n",
    "s3 = f2(name = \"data\",marks = 100 , true = \"yes\")"
   ]
  },
  {
   "cell_type": "code",
   "execution_count": 8,
   "id": "71cc5ecc-35d9-4082-983f-494d573c8441",
   "metadata": {},
   "outputs": [
    {
     "data": {
      "text/plain": [
       "{'name': 'data', 'marks': 100, 'true': 'yes'}"
      ]
     },
     "execution_count": 8,
     "metadata": {},
     "output_type": "execute_result"
    }
   ],
   "source": [
    "s3"
   ]
  },
  {
   "cell_type": "code",
   "execution_count": 9,
   "id": "db422610-41ed-4d23-ba21-264235faf6ab",
   "metadata": {},
   "outputs": [],
   "source": [
    "#ques 3 iterator is operator which allow us to iterate over data collection such as list,tuple,dictionary etc.\n",
    "list2 = [1,6,3,8,4,9,2,0]\n"
   ]
  },
  {
   "cell_type": "code",
   "execution_count": 10,
   "id": "6d0ca66c-ebb9-4097-b2aa-3b4349a0b03e",
   "metadata": {},
   "outputs": [],
   "source": [
    "list3 = iter(list2)"
   ]
  },
  {
   "cell_type": "code",
   "execution_count": 11,
   "id": "ee1989b0-43c4-46e2-801d-8fde51022b5e",
   "metadata": {},
   "outputs": [
    {
     "data": {
      "text/plain": [
       "1"
      ]
     },
     "execution_count": 11,
     "metadata": {},
     "output_type": "execute_result"
    }
   ],
   "source": [
    "next(list3)"
   ]
  },
  {
   "cell_type": "code",
   "execution_count": 12,
   "id": "5880c595-a96e-4cbc-923d-3f04116b52b8",
   "metadata": {},
   "outputs": [
    {
     "data": {
      "text/plain": [
       "6"
      ]
     },
     "execution_count": 12,
     "metadata": {},
     "output_type": "execute_result"
    }
   ],
   "source": [
    "next(list3)"
   ]
  },
  {
   "cell_type": "code",
   "execution_count": 13,
   "id": "9999c786-a354-4e26-94ef-e100e94372c8",
   "metadata": {},
   "outputs": [
    {
     "data": {
      "text/plain": [
       "3"
      ]
     },
     "execution_count": 13,
     "metadata": {},
     "output_type": "execute_result"
    }
   ],
   "source": [
    "next(list3)"
   ]
  },
  {
   "cell_type": "code",
   "execution_count": 14,
   "id": "a44f2faf-a7ce-4f3d-811c-4115ebd558db",
   "metadata": {},
   "outputs": [
    {
     "data": {
      "text/plain": [
       "8"
      ]
     },
     "execution_count": 14,
     "metadata": {},
     "output_type": "execute_result"
    }
   ],
   "source": [
    "next(list3)"
   ]
  },
  {
   "cell_type": "code",
   "execution_count": 15,
   "id": "67da0039-839e-41cb-ad74-4ae19f10df44",
   "metadata": {},
   "outputs": [
    {
     "data": {
      "text/plain": [
       "4"
      ]
     },
     "execution_count": 15,
     "metadata": {},
     "output_type": "execute_result"
    }
   ],
   "source": [
    "next(list3)"
   ]
  },
  {
   "cell_type": "code",
   "execution_count": 16,
   "id": "98e23f44-d3b4-413e-b699-3b7829ab2c64",
   "metadata": {},
   "outputs": [
    {
     "data": {
      "text/plain": [
       "9"
      ]
     },
     "execution_count": 16,
     "metadata": {},
     "output_type": "execute_result"
    }
   ],
   "source": [
    "next(list3)"
   ]
  },
  {
   "cell_type": "code",
   "execution_count": 17,
   "id": "1a9974f1-48ef-41a8-a218-935ae3cc99e6",
   "metadata": {},
   "outputs": [
    {
     "data": {
      "text/plain": [
       "2"
      ]
     },
     "execution_count": 17,
     "metadata": {},
     "output_type": "execute_result"
    }
   ],
   "source": [
    "next(list3)"
   ]
  },
  {
   "cell_type": "code",
   "execution_count": 18,
   "id": "1f11aa1a-f83b-4130-9d1e-0b923e185178",
   "metadata": {},
   "outputs": [
    {
     "data": {
      "text/plain": [
       "0"
      ]
     },
     "execution_count": 18,
     "metadata": {},
     "output_type": "execute_result"
    }
   ],
   "source": [
    "next(list3)"
   ]
  },
  {
   "cell_type": "code",
   "execution_count": 19,
   "id": "5cbc55d0-2792-47b2-9346-5e92744a454d",
   "metadata": {},
   "outputs": [
    {
     "ename": "StopIteration",
     "evalue": "",
     "output_type": "error",
     "traceback": [
      "\u001b[0;31m---------------------------------------------------------------------------\u001b[0m",
      "\u001b[0;31mStopIteration\u001b[0m                             Traceback (most recent call last)",
      "Cell \u001b[0;32mIn[19], line 1\u001b[0m\n\u001b[0;32m----> 1\u001b[0m \u001b[38;5;28;43mnext\u001b[39;49m\u001b[43m(\u001b[49m\u001b[43mlist3\u001b[49m\u001b[43m)\u001b[49m\n",
      "\u001b[0;31mStopIteration\u001b[0m: "
     ]
    }
   ],
   "source": [
    "next(list3)"
   ]
  },
  {
   "cell_type": "code",
   "execution_count": 20,
   "id": "487181aa-2fe5-477e-bce2-e43e6624b662",
   "metadata": {},
   "outputs": [],
   "source": [
    "list4 = iter([2,4,6,8,10,12,14,16,18,20])\n"
   ]
  },
  {
   "cell_type": "code",
   "execution_count": 21,
   "id": "c312306a-9464-4844-8a73-61b9ed6d8d61",
   "metadata": {},
   "outputs": [
    {
     "name": "stdout",
     "output_type": "stream",
     "text": [
      "2\n",
      "4\n",
      "6\n",
      "8\n",
      "10\n"
     ]
    }
   ],
   "source": [
    "for i in range(5):\n",
    "    print(next(list4))"
   ]
  },
  {
   "cell_type": "code",
   "execution_count": 22,
   "id": "9ae2c410-5f23-43ad-9e58-fd90dd725e60",
   "metadata": {},
   "outputs": [],
   "source": [
    "#ques 4 generator function : it allows to declare a function that behaves like an iterate\n",
    "def fib(n):\n",
    "    a,b = 0,1\n",
    "    for i in range(n):\n",
    "        yield a\n",
    "        a,b = b, a+b\n",
    "      "
   ]
  },
  {
   "cell_type": "code",
   "execution_count": 23,
   "id": "ba4754a9-b831-4350-ba0b-8d9338112007",
   "metadata": {},
   "outputs": [],
   "source": [
    "fibo_series = fib(10)"
   ]
  },
  {
   "cell_type": "code",
   "execution_count": 24,
   "id": "d5caa9ae-b3c0-438f-a81e-b8604ab93bb0",
   "metadata": {},
   "outputs": [
    {
     "data": {
      "text/plain": [
       "<generator object fib at 0x7fa8a061f7d0>"
      ]
     },
     "execution_count": 24,
     "metadata": {},
     "output_type": "execute_result"
    }
   ],
   "source": [
    "fibo_series"
   ]
  },
  {
   "cell_type": "code",
   "execution_count": 25,
   "id": "cec67311-30d3-4fbe-82f8-1dfc1cfe30fb",
   "metadata": {},
   "outputs": [
    {
     "data": {
      "text/plain": [
       "0"
      ]
     },
     "execution_count": 25,
     "metadata": {},
     "output_type": "execute_result"
    }
   ],
   "source": [
    "next(fibo_series)"
   ]
  },
  {
   "cell_type": "code",
   "execution_count": 26,
   "id": "72fb252b-2086-4307-85dc-143be2a7f744",
   "metadata": {},
   "outputs": [
    {
     "data": {
      "text/plain": [
       "1"
      ]
     },
     "execution_count": 26,
     "metadata": {},
     "output_type": "execute_result"
    }
   ],
   "source": [
    "next(fibo_series)"
   ]
  },
  {
   "cell_type": "code",
   "execution_count": 27,
   "id": "93f8dabe-eb40-4885-9d49-1ef734d0aa1f",
   "metadata": {},
   "outputs": [
    {
     "data": {
      "text/plain": [
       "1"
      ]
     },
     "execution_count": 27,
     "metadata": {},
     "output_type": "execute_result"
    }
   ],
   "source": [
    "next(fibo_series)"
   ]
  },
  {
   "cell_type": "code",
   "execution_count": 28,
   "id": "357e0bf0-d56c-4bf5-af5b-6446370178c1",
   "metadata": {},
   "outputs": [
    {
     "data": {
      "text/plain": [
       "2"
      ]
     },
     "execution_count": 28,
     "metadata": {},
     "output_type": "execute_result"
    }
   ],
   "source": [
    "next(fibo_series)"
   ]
  },
  {
   "cell_type": "code",
   "execution_count": 29,
   "id": "64bf819d-0762-454c-9305-acf01463c534",
   "metadata": {},
   "outputs": [
    {
     "data": {
      "text/plain": [
       "3"
      ]
     },
     "execution_count": 29,
     "metadata": {},
     "output_type": "execute_result"
    }
   ],
   "source": [
    "next(fibo_series)"
   ]
  },
  {
   "cell_type": "code",
   "execution_count": 30,
   "id": "290e83e1-e07b-4875-b3f0-3fc46b039064",
   "metadata": {},
   "outputs": [
    {
     "data": {
      "text/plain": [
       "5"
      ]
     },
     "execution_count": 30,
     "metadata": {},
     "output_type": "execute_result"
    }
   ],
   "source": [
    "next(fibo_series)"
   ]
  },
  {
   "cell_type": "code",
   "execution_count": 31,
   "id": "dc7c572a-c511-43f2-8ac9-c57092d59ad6",
   "metadata": {},
   "outputs": [
    {
     "data": {
      "text/plain": [
       "8"
      ]
     },
     "execution_count": 31,
     "metadata": {},
     "output_type": "execute_result"
    }
   ],
   "source": [
    "next(fibo_series)"
   ]
  },
  {
   "cell_type": "code",
   "execution_count": 32,
   "id": "d49666e5-13bd-4439-a513-276ccc4532ff",
   "metadata": {},
   "outputs": [
    {
     "data": {
      "text/plain": [
       "13"
      ]
     },
     "execution_count": 32,
     "metadata": {},
     "output_type": "execute_result"
    }
   ],
   "source": [
    "next(fibo_series)"
   ]
  },
  {
   "cell_type": "code",
   "execution_count": 33,
   "id": "6ef367d8-c73c-43d6-9fb8-92d9835ee79a",
   "metadata": {},
   "outputs": [
    {
     "data": {
      "text/plain": [
       "21"
      ]
     },
     "execution_count": 33,
     "metadata": {},
     "output_type": "execute_result"
    }
   ],
   "source": [
    "next(fibo_series)"
   ]
  },
  {
   "cell_type": "code",
   "execution_count": 34,
   "id": "835f32a3-3efc-43fc-a1a1-c134b22cfb08",
   "metadata": {},
   "outputs": [
    {
     "data": {
      "text/plain": [
       "34"
      ]
     },
     "execution_count": 34,
     "metadata": {},
     "output_type": "execute_result"
    }
   ],
   "source": [
    "next(fibo_series)"
   ]
  },
  {
   "cell_type": "code",
   "execution_count": 35,
   "id": "c977d022-df3e-4359-8c80-79594e41763a",
   "metadata": {},
   "outputs": [],
   "source": [
    "#ques 5\n",
    "def prime_gen(b):\n",
    "    for i in range(1,b+1):\n",
    "        for j in range(2,int(i/2)+1):\n",
    "            if i%j == 0:\n",
    "                break\n",
    "        else:\n",
    "            yield i\n",
    "                \n",
    "                "
   ]
  },
  {
   "cell_type": "code",
   "execution_count": 36,
   "id": "b435f6c2-e400-41a7-87a9-eb0a9928acd6",
   "metadata": {},
   "outputs": [],
   "source": [
    "prime_no = prime_gen(1000)"
   ]
  },
  {
   "cell_type": "code",
   "execution_count": 37,
   "id": "aa767186-06f8-4876-a0a8-ba4cc5bdd408",
   "metadata": {},
   "outputs": [
    {
     "name": "stdout",
     "output_type": "stream",
     "text": [
      "1\n",
      "2\n",
      "3\n",
      "5\n",
      "7\n",
      "11\n",
      "13\n",
      "17\n",
      "19\n",
      "23\n",
      "29\n",
      "31\n",
      "37\n",
      "41\n",
      "43\n",
      "47\n",
      "53\n",
      "59\n",
      "61\n",
      "67\n"
     ]
    }
   ],
   "source": [
    "for i in range(20):\n",
    "    print(next(prime_no))\n",
    "        "
   ]
  },
  {
   "cell_type": "code",
   "execution_count": 38,
   "id": "28529134-3be8-431e-bea2-28db90a5471d",
   "metadata": {},
   "outputs": [
    {
     "name": "stdout",
     "output_type": "stream",
     "text": [
      "1\n",
      "2\n",
      "3\n",
      "5\n",
      "8\n",
      "13\n",
      "21\n",
      "34\n",
      "55\n",
      "89\n"
     ]
    }
   ],
   "source": [
    "#ques 6\n",
    "i = 1\n",
    "a, b = 0,1\n",
    "while i <= 10:\n",
    "    print( a + b )\n",
    "    a, b = b, a+b\n",
    "    i += 1"
   ]
  },
  {
   "cell_type": "code",
   "execution_count": 39,
   "id": "785ad65f-1b09-4e6b-9dc8-adf8bcb8331c",
   "metadata": {},
   "outputs": [],
   "source": [
    "#ques 7\n",
    "string = \"pwskills\"\n",
    "s = (len(string))\n",
    "new_str = iter(string)\n",
    "list4 = []\n",
    "for i in range(s):\n",
    "    list4.append(next(new_str))"
   ]
  },
  {
   "cell_type": "code",
   "execution_count": 40,
   "id": "38cbd100-c023-4cef-9e9b-2717e7151881",
   "metadata": {},
   "outputs": [
    {
     "data": {
      "text/plain": [
       "['p', 'w', 's', 'k', 'i', 'l', 'l', 's']"
      ]
     },
     "execution_count": 40,
     "metadata": {},
     "output_type": "execute_result"
    }
   ],
   "source": [
    "list4"
   ]
  },
  {
   "cell_type": "code",
   "execution_count": null,
   "id": "ac95134e-3f0e-44fb-a30f-12011493bb82",
   "metadata": {},
   "outputs": [],
   "source": [
    "#ques 8\n",
    "number = input(\"enter any no.\")\n",
    "d = len(number)\n",
    "l = 0\n",
    "r = len(number)-1\n",
    "list6 = []\n",
    "list7 = []\n",
    "while l <=r:\n",
    "    list6.append(number[l])\n",
    "    l += 1\n",
    "\n",
    "    list7.append(number[r])\n",
    "    r -= 1\n",
    "for i in range(len(list6)):\n",
    "    if list6[i] != list7[i] :\n",
    "        print(\"not palindrome\")\n",
    "        break\n",
    "    else:\n",
    "        print(\"palindrome\")\n",
    "        break\n",
    "        "
   ]
  },
  {
   "cell_type": "code",
   "execution_count": null,
   "id": "2e9ed3e2-b00a-40f7-af1c-16a921ed6d07",
   "metadata": {},
   "outputs": [],
   "source": [
    "#ques 9\n",
    "list_odd = []\n",
    "for i in range(1,101):\n",
    "    if i %2 != 0 :\n",
    "        list_odd.append(i)\n",
    "        "
   ]
  },
  {
   "cell_type": "code",
   "execution_count": 1,
   "id": "c6dc97c4-8cd0-48ec-9528-931448693316",
   "metadata": {},
   "outputs": [
    {
     "ename": "NameError",
     "evalue": "name 'li' is not defined",
     "output_type": "error",
     "traceback": [
      "\u001b[0;31m---------------------------------------------------------------------------\u001b[0m",
      "\u001b[0;31mNameError\u001b[0m                                 Traceback (most recent call last)",
      "Cell \u001b[0;32mIn[1], line 1\u001b[0m\n\u001b[0;32m----> 1\u001b[0m \u001b[43mli\u001b[49m\n",
      "\u001b[0;31mNameError\u001b[0m: name 'li' is not defined"
     ]
    }
   ],
   "source": [
    "li"
   ]
  },
  {
   "cell_type": "code",
   "execution_count": null,
   "id": "e9c38cc1-933c-4e7f-af58-d663d27c68a3",
   "metadata": {},
   "outputs": [],
   "source": []
  }
 ],
 "metadata": {
  "kernelspec": {
   "display_name": "Python 3 (ipykernel)",
   "language": "python",
   "name": "python3"
  },
  "language_info": {
   "codemirror_mode": {
    "name": "ipython",
    "version": 3
   },
   "file_extension": ".py",
   "mimetype": "text/x-python",
   "name": "python",
   "nbconvert_exporter": "python",
   "pygments_lexer": "ipython3",
   "version": "3.10.8"
  }
 },
 "nbformat": 4,
 "nbformat_minor": 5
}
