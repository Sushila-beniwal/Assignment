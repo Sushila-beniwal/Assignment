{
 "cells": [
  {
   "cell_type": "code",
   "execution_count": 1,
   "id": "17c2fa06-c137-409d-ad07-958cef76b839",
   "metadata": {},
   "outputs": [],
   "source": [
    "# question 1st creating a variable containing the datatype string,list,float and tuple\n",
    "a=[\"data_science\",[1,2,3,4],2.0,(2,5,8)]\n"
   ]
  },
  {
   "cell_type": "code",
   "execution_count": 2,
   "id": "68910f44-c405-4611-8e55-6b73fc3be134",
   "metadata": {},
   "outputs": [
    {
     "data": {
      "text/plain": [
       "['data_science', [1, 2, 3, 4], 2.0, (2, 5, 8)]"
      ]
     },
     "execution_count": 2,
     "metadata": {},
     "output_type": "execute_result"
    }
   ],
   "source": [
    "a"
   ]
  },
  {
   "cell_type": "code",
   "execution_count": 4,
   "id": "13ec8bb3-f93c-417e-94d4-cc235962cc7b",
   "metadata": {},
   "outputs": [],
   "source": [
    "#question 2nd part 1st\n",
    "var1 = ''\n"
   ]
  },
  {
   "cell_type": "code",
   "execution_count": 5,
   "id": "d98e14f2-ac07-4a8b-be2d-acee9986c96d",
   "metadata": {},
   "outputs": [
    {
     "data": {
      "text/plain": [
       "str"
      ]
     },
     "execution_count": 5,
     "metadata": {},
     "output_type": "execute_result"
    }
   ],
   "source": [
    "type(var1)"
   ]
  },
  {
   "cell_type": "code",
   "execution_count": 6,
   "id": "645b6c09-2f2b-4e1b-80fb-b2cc7ce886d2",
   "metadata": {},
   "outputs": [],
   "source": [
    "#question 2nd part 2nd\n",
    "var2 = '[DS,ML,Python]'"
   ]
  },
  {
   "cell_type": "code",
   "execution_count": 7,
   "id": "9070eb04-ec9a-4e99-8105-d0ca2e58c456",
   "metadata": {},
   "outputs": [
    {
     "data": {
      "text/plain": [
       "str"
      ]
     },
     "execution_count": 7,
     "metadata": {},
     "output_type": "execute_result"
    }
   ],
   "source": [
    "type(var2)"
   ]
  },
  {
   "cell_type": "code",
   "execution_count": 8,
   "id": "4713e565-601a-41aa-b6ae-195e6053cc93",
   "metadata": {},
   "outputs": [
    {
     "data": {
      "text/plain": [
       "list"
      ]
     },
     "execution_count": 8,
     "metadata": {},
     "output_type": "execute_result"
    }
   ],
   "source": [
    "#question 2nd part 3rd\n",
    "var3 = ['DS','ML','Python']\n",
    "type(var3)"
   ]
  },
  {
   "cell_type": "code",
   "execution_count": 9,
   "id": "7f5b18e4-5811-43e2-938d-a4f98cd78a9c",
   "metadata": {},
   "outputs": [
    {
     "data": {
      "text/plain": [
       "float"
      ]
     },
     "execution_count": 9,
     "metadata": {},
     "output_type": "execute_result"
    }
   ],
   "source": [
    "#question 2nd part 4th\n",
    "var4=1.\n",
    "type(var4)"
   ]
  },
  {
   "cell_type": "code",
   "execution_count": 10,
   "id": "5ed2c714-7e47-4e5f-a5d3-1f779c611d3f",
   "metadata": {},
   "outputs": [],
   "source": [
    "#question 3rd part 1st /\n",
    "a = 4\n",
    "b = 2\n",
    "c = a/b\n"
   ]
  },
  {
   "cell_type": "code",
   "execution_count": 11,
   "id": "46080663-f1e3-4068-a3fb-baa50e0e577c",
   "metadata": {},
   "outputs": [
    {
     "data": {
      "text/plain": [
       "2.0"
      ]
     },
     "execution_count": 11,
     "metadata": {},
     "output_type": "execute_result"
    }
   ],
   "source": [
    "c"
   ]
  },
  {
   "cell_type": "code",
   "execution_count": 12,
   "id": "694c5101-5f9b-486f-a6c0-4a91b90d3295",
   "metadata": {},
   "outputs": [],
   "source": [
    "#question 3rd part 2nd % is used to find remainder \n",
    "d = a%b"
   ]
  },
  {
   "cell_type": "code",
   "execution_count": 13,
   "id": "9cd11f17-a5fb-4afd-a768-b8ed0d3ac95e",
   "metadata": {},
   "outputs": [
    {
     "data": {
      "text/plain": [
       "0"
      ]
     },
     "execution_count": 13,
     "metadata": {},
     "output_type": "execute_result"
    }
   ],
   "source": [
    "d"
   ]
  },
  {
   "cell_type": "code",
   "execution_count": 16,
   "id": "58063d35-5640-4159-a818-95412583488d",
   "metadata": {},
   "outputs": [],
   "source": [
    "#question 3rd part 3rd // it rounds the result to nearest whole no.\n",
    "e = 15\n",
    "f = 2\n",
    "g = e//f"
   ]
  },
  {
   "cell_type": "code",
   "execution_count": 17,
   "id": "111eeecc-dc1e-4c8e-8640-98422fc55b9a",
   "metadata": {},
   "outputs": [
    {
     "data": {
      "text/plain": [
       "7"
      ]
     },
     "execution_count": 17,
     "metadata": {},
     "output_type": "execute_result"
    }
   ],
   "source": [
    "g"
   ]
  },
  {
   "cell_type": "code",
   "execution_count": 19,
   "id": "91c56465-a147-421f-875a-fc6b4da97d49",
   "metadata": {},
   "outputs": [],
   "source": [
    "#question 3rd part 4th ** it is used to power the variable\n",
    "h = 2\n",
    "i = 3\n",
    "j = h**i\n"
   ]
  },
  {
   "cell_type": "code",
   "execution_count": 20,
   "id": "dd07421d-b314-4f28-b35e-bcc1fda1a462",
   "metadata": {},
   "outputs": [
    {
     "data": {
      "text/plain": [
       "8"
      ]
     },
     "execution_count": 20,
     "metadata": {},
     "output_type": "execute_result"
    }
   ],
   "source": [
    "j"
   ]
  },
  {
   "cell_type": "code",
   "execution_count": 1,
   "id": "f4f86c98-b164-4b5d-9405-b3bee3b9bbbf",
   "metadata": {},
   "outputs": [
    {
     "name": "stdout",
     "output_type": "stream",
     "text": [
      "19\n",
      "datascience\n",
      "5.7\n",
      "(4+6j)\n",
      "[3, 9, 9]\n",
      "{2, 3, 4}\n",
      "(3, 8, 5, 5)\n",
      "a\n",
      "True\n",
      "6\n"
     ]
    }
   ],
   "source": [
    "#ques. 4th\n",
    "list1 = [19,\"datascience\",5.7,4+6j,[3,9,9],{2,4,3,2,4},(3,8,5,5),'a',True,6]\n",
    "for i in list1:\n",
    "    print(i)"
   ]
  },
  {
   "cell_type": "code",
   "execution_count": 2,
   "id": "4f318711-c65e-43cc-8e1e-232f7a977ce5",
   "metadata": {},
   "outputs": [
    {
     "name": "stdin",
     "output_type": "stream",
     "text": [
      "enter the value of A  8\n",
      "enter the value of B 2\n"
     ]
    }
   ],
   "source": [
    "numA = int(input(\"enter the value of A \"))\n",
    "numB = int(input(\"enter the value of B\"))\n",
    "res = numA%numB"
   ]
  },
  {
   "cell_type": "code",
   "execution_count": 3,
   "id": "0ebdd38e-cda0-4872-898f-c111c51787ef",
   "metadata": {},
   "outputs": [
    {
     "data": {
      "text/plain": [
       "0"
      ]
     },
     "execution_count": 3,
     "metadata": {},
     "output_type": "execute_result"
    }
   ],
   "source": [
    "res"
   ]
  },
  {
   "cell_type": "code",
   "execution_count": 4,
   "id": "22c49db1-a2f0-489f-89db-27b667400387",
   "metadata": {},
   "outputs": [],
   "source": [
    "count = 0\n",
    "def count(res):\n",
    "    if res == 0:\n",
    "        while numA/numB == 0:\n",
    "            count = count+1\n",
    "            return count"
   ]
  },
  {
   "cell_type": "code",
   "execution_count": 5,
   "id": "985e1063-b260-4891-98c1-c7d04dfb30f1",
   "metadata": {},
   "outputs": [],
   "source": [
    "ans = count(res)"
   ]
  },
  {
   "cell_type": "code",
   "execution_count": 6,
   "id": "04606c7b-31da-4fbc-9c58-936df8e3e21c",
   "metadata": {},
   "outputs": [],
   "source": [
    "ans"
   ]
  },
  {
   "cell_type": "code",
   "execution_count": 1,
   "id": "5770b7f2-d8ba-45b7-8fba-bac191af9bd8",
   "metadata": {},
   "outputs": [
    {
     "name": "stdout",
     "output_type": "stream",
     "text": [
      "3\n",
      "9\n",
      "18\n",
      "21\n",
      "27\n",
      "45\n",
      "69\n",
      "30\n",
      "51\n",
      "48\n"
     ]
    }
   ],
   "source": [
    "#Question 6th \n",
    "list2 = [3,86,10,9,18,21,34,65,98,76,34,29,27,45,73,69,40,30,59,51,48,29,70]\n",
    "for i in list2:\n",
    "    if i%3 == 0:\n",
    "        print(i)"
   ]
  },
  {
   "cell_type": "code",
   "execution_count": 2,
   "id": "8364ca6e-ebcc-4281-b3f8-1a2d0fe384c6",
   "metadata": {},
   "outputs": [],
   "source": [
    "#ques. 7\n",
    "#mutable allow changes,but imutable doesn't\n",
    "l1 = [2,9,4,7]\n",
    "str = \"data_science\""
   ]
  },
  {
   "cell_type": "code",
   "execution_count": 3,
   "id": "55415e95-840c-4454-989c-ed1f35a924b1",
   "metadata": {},
   "outputs": [],
   "source": [
    "l1[0] = 3"
   ]
  },
  {
   "cell_type": "code",
   "execution_count": 4,
   "id": "5c0b20b8-ce3e-45fd-abc1-159c9a35831b",
   "metadata": {},
   "outputs": [
    {
     "data": {
      "text/plain": [
       "[3, 9, 4, 7]"
      ]
     },
     "execution_count": 4,
     "metadata": {},
     "output_type": "execute_result"
    }
   ],
   "source": [
    "l1"
   ]
  },
  {
   "cell_type": "code",
   "execution_count": 5,
   "id": "83584f5c-c6e2-4081-bfa1-ff92a2845460",
   "metadata": {},
   "outputs": [
    {
     "ename": "TypeError",
     "evalue": "'str' object does not support item assignment",
     "output_type": "error",
     "traceback": [
      "\u001b[0;31m---------------------------------------------------------------------------\u001b[0m",
      "\u001b[0;31mTypeError\u001b[0m                                 Traceback (most recent call last)",
      "Cell \u001b[0;32mIn[5], line 1\u001b[0m\n\u001b[0;32m----> 1\u001b[0m \u001b[38;5;28;43mstr\u001b[39;49m\u001b[43m[\u001b[49m\u001b[38;5;241;43m0\u001b[39;49m\u001b[43m]\u001b[49m \u001b[38;5;241m=\u001b[39m \u001b[38;5;124m'\u001b[39m\u001b[38;5;124ma\u001b[39m\u001b[38;5;124m'\u001b[39m\n",
      "\u001b[0;31mTypeError\u001b[0m: 'str' object does not support item assignment"
     ]
    }
   ],
   "source": [
    "str[0] = 'a'"
   ]
  },
  {
   "cell_type": "code",
   "execution_count": null,
   "id": "35139985-81ba-49dd-a31b-dc0aa90ea30b",
   "metadata": {},
   "outputs": [],
   "source": []
  }
 ],
 "metadata": {
  "kernelspec": {
   "display_name": "Python 3 (ipykernel)",
   "language": "python",
   "name": "python3"
  },
  "language_info": {
   "codemirror_mode": {
    "name": "ipython",
    "version": 3
   },
   "file_extension": ".py",
   "mimetype": "text/x-python",
   "name": "python",
   "nbconvert_exporter": "python",
   "pygments_lexer": "ipython3",
   "version": "3.10.8"
  }
 },
 "nbformat": 4,
 "nbformat_minor": 5
}
