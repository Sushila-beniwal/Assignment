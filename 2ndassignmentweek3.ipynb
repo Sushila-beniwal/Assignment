{
 "cells": [
  {
   "cell_type": "code",
   "execution_count": 1,
   "id": "0d386ec0-2a69-433a-bb2c-8155238cb5c9",
   "metadata": {},
   "outputs": [],
   "source": [
    "#ques1\n",
    "dict=[(\"sachin tendulkar\",34357),(\"Ricki ponting\",27483),(\"jack kallis\",25534),(\"virat kohli\",24936)]\n",
    "l = []\n",
    "for i in dict:\n",
    "    l.append(i[1])\n",
    "        "
   ]
  },
  {
   "cell_type": "code",
   "execution_count": 2,
   "id": "7de53160-da3f-4b3b-bd9f-922c01ec6d18",
   "metadata": {},
   "outputs": [
    {
     "data": {
      "text/plain": [
       "[34357, 27483, 25534, 24936]"
      ]
     },
     "execution_count": 2,
     "metadata": {},
     "output_type": "execute_result"
    }
   ],
   "source": [
    "l"
   ]
  },
  {
   "cell_type": "code",
   "execution_count": 3,
   "id": "799cbdb2-d599-486c-8b76-001a9b3606fa",
   "metadata": {},
   "outputs": [],
   "source": [
    "l.sort()\n",
    "    \n",
    "                    "
   ]
  },
  {
   "cell_type": "code",
   "execution_count": 4,
   "id": "ea52bf17-8c6d-4ad7-9953-1e27b2c5a044",
   "metadata": {},
   "outputs": [
    {
     "data": {
      "text/plain": [
       "[24936, 25534, 27483, 34357]"
      ]
     },
     "execution_count": 4,
     "metadata": {},
     "output_type": "execute_result"
    }
   ],
   "source": [
    "l"
   ]
  },
  {
   "cell_type": "code",
   "execution_count": 5,
   "id": "07084415-cdca-4a53-b2cc-c00ce96719ff",
   "metadata": {},
   "outputs": [],
   "source": [
    "#ques2\n",
    "number = [1, 2, 3, 4, 5, 6, 7, 8, 9, 10]"
   ]
  },
  {
   "cell_type": "code",
   "execution_count": 6,
   "id": "5b5a9ccb-504b-4089-bb53-7b30cacf49f7",
   "metadata": {},
   "outputs": [],
   "source": [
    "squared_list = list(map(lambda x : x**2 ,number))"
   ]
  },
  {
   "cell_type": "code",
   "execution_count": 7,
   "id": "58d8d27d-eed9-40b5-ae4a-ac4e59fc5d76",
   "metadata": {},
   "outputs": [],
   "source": [
    "#ques3\n",
    "givendata = [1, 2, 3, 4, 5, 6, 7, 8, 9, 10]\n",
    "string = tuple(map(lambda x : str(x) ,givendata ))"
   ]
  },
  {
   "cell_type": "code",
   "execution_count": 8,
   "id": "8718375d-99fa-48fb-b225-218320f70da0",
   "metadata": {},
   "outputs": [
    {
     "data": {
      "text/plain": [
       "('1', '2', '3', '4', '5', '6', '7', '8', '9', '10')"
      ]
     },
     "execution_count": 8,
     "metadata": {},
     "output_type": "execute_result"
    }
   ],
   "source": [
    "string"
   ]
  },
  {
   "cell_type": "code",
   "execution_count": 9,
   "id": "f3edeeab-cf98-4ca6-8e9d-e5abaa1a9cf1",
   "metadata": {},
   "outputs": [],
   "source": [
    "#ques4\n",
    "from functools import reduce\n",
    "given = list(range(1,26))\n",
    "product = reduce(lambda x,y : x*y , given)\n"
   ]
  },
  {
   "cell_type": "code",
   "execution_count": 10,
   "id": "5aea87c2-9a38-477b-adf7-0ddbda146377",
   "metadata": {},
   "outputs": [
    {
     "data": {
      "text/plain": [
       "15511210043330985984000000"
      ]
     },
     "execution_count": 10,
     "metadata": {},
     "output_type": "execute_result"
    }
   ],
   "source": [
    "product"
   ]
  },
  {
   "cell_type": "code",
   "execution_count": 13,
   "id": "c9dec39b-0928-46d5-9598-3c6d5586259d",
   "metadata": {},
   "outputs": [],
   "source": [
    "#ques5\n",
    "ques5data = [2, 3, 6, 9, 27, 60, 90, 120, 55, 46]\n",
    "divisible_by_2 = list(filter(lambda x : x%2 == 0,ques5data))\n",
    "divisible_by_3 = list(filter(lambda x : x%3 == 0, ques5data))\n"
   ]
  },
  {
   "cell_type": "code",
   "execution_count": 14,
   "id": "768cd24d-78b2-4a9a-850d-235c9689d108",
   "metadata": {},
   "outputs": [
    {
     "data": {
      "text/plain": [
       "[2, 6, 60, 90, 120, 46]"
      ]
     },
     "execution_count": 14,
     "metadata": {},
     "output_type": "execute_result"
    }
   ],
   "source": [
    "divisible_by_2 "
   ]
  },
  {
   "cell_type": "code",
   "execution_count": 15,
   "id": "dbf2c75f-e821-483d-b2f8-cd6fd822845a",
   "metadata": {},
   "outputs": [
    {
     "data": {
      "text/plain": [
       "[3, 6, 9, 27, 60, 90, 120]"
      ]
     },
     "execution_count": 15,
     "metadata": {},
     "output_type": "execute_result"
    }
   ],
   "source": [
    "divisible_by_3"
   ]
  },
  {
   "cell_type": "code",
   "execution_count": 17,
   "id": "13852bc2-e8f9-47c3-a2f3-754702ae363f",
   "metadata": {},
   "outputs": [],
   "source": [
    "def palindromeCheck(a):\n",
    "    l = 0\n",
    "    r = len(a) -1\n",
    "    while l<=r :\n",
    "        if a[r]!=a[l] :\n",
    "            return \"not palindrome\"\n",
    "            break\n",
    "        else:\n",
    "            return \"palindrome\"\n",
    "            break"
   ]
  },
  {
   "cell_type": "code",
   "execution_count": 18,
   "id": "11741062-cbc5-4d7f-919d-bd6293558053",
   "metadata": {},
   "outputs": [],
   "source": [
    "#ques6\n",
    "ques6data = ['python', 'php', 'aba', 'radar', 'level']\n",
    "palindromic_data = list(filter(lambda x : palindromeCheck(x)=,ques6data ))"
   ]
  },
  {
   "cell_type": "code",
   "execution_count": 19,
   "id": "ac464ee2-efd6-46fe-9990-b8fb5bcaa952",
   "metadata": {},
   "outputs": [
    {
     "data": {
      "text/plain": [
       "['python', 'php', 'aba', 'radar', 'level']"
      ]
     },
     "execution_count": 19,
     "metadata": {},
     "output_type": "execute_result"
    }
   ],
   "source": [
    "palindromic_data"
   ]
  },
  {
   "cell_type": "code",
   "execution_count": null,
   "id": "9f2a7a1b-fe24-4ae8-9712-029b73bf659e",
   "metadata": {},
   "outputs": [],
   "source": []
  }
 ],
 "metadata": {
  "kernelspec": {
   "display_name": "Python 3 (ipykernel)",
   "language": "python",
   "name": "python3"
  },
  "language_info": {
   "codemirror_mode": {
    "name": "ipython",
    "version": 3
   },
   "file_extension": ".py",
   "mimetype": "text/x-python",
   "name": "python",
   "nbconvert_exporter": "python",
   "pygments_lexer": "ipython3",
   "version": "3.10.8"
  }
 },
 "nbformat": 4,
 "nbformat_minor": 5
}
