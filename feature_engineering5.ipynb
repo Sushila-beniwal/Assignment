{
 "cells": [
  {
   "cell_type": "markdown",
   "id": "dfc29726",
   "metadata": {},
   "source": [
    "#ques 1\n",
    "\"\"\"\n",
    "ordinal encoding : in ordinal encoding we assign no. either in increasing order or in decreasing order on behalf on the category's internal order.\n",
    "example: good ,better , best can we assign as good=1,better=2,best=3\n",
    "\n",
    "label encoding  : we prefer the lable encoding in case of the categorical data's unique value does not have internal order.\n",
    "for example: female,male in this female ans male doen't have any order.\n",
    "female=0,male=1 or male=0,female=1\n",
    "\"\"\""
   ]
  },
  {
   "cell_type": "markdown",
   "id": "42fc8fb0",
   "metadata": {},
   "source": [
    "#ques2\n",
    "\n",
    "\"\"\"\n",
    "It is a technique used to encode categorical variable based on their relationship with the target variable. \n",
    "This encoding technique is useful when no. of unique categories is large and we want to use this variable as a feature in the machine learning.\n",
    "\n",
    "In target guided ordinal encoding technique, we replace each category in categorical column with the numerical values based on the mean or median values of the target value of that category.\n",
    "\n",
    "example: 'city': ['New York', 'London', 'Paris', 'Tokyo', 'New York', 'Paris']\n",
    "         'price': [200, 150, 300, 250, 180, 320]\n",
    "         {'London': 150.0, 'New York': 190.0, 'Paris': 310.0, 'Tokyo': 250.0}\n",
    "\"\"\""
   ]
  },
  {
   "cell_type": "markdown",
   "id": "7cbe85c7",
   "metadata": {},
   "source": [
    "#ques3\n",
    "\"\"\"\n",
    "Covariance in statistics measures the extent to which two variables vary linearly.\n",
    "The covariance formula reveals whether two variables move in the same or opposite directions.\n",
    "\n",
    "\"\"\""
   ]
  },
  {
   "cell_type": "code",
   "execution_count": 8,
   "id": "f30156e2",
   "metadata": {},
   "outputs": [],
   "source": [
    "#ques4\n",
    "import pandas as pd\n",
    "data = {'Color':['red','green','blue'],'Size':['small','medium','large'],'Material':['wood','metal','plastic']}\n",
    "\n",
    "df = pd.DataFrame(data)\n"
   ]
  },
  {
   "cell_type": "code",
   "execution_count": 9,
   "id": "47a90384",
   "metadata": {},
   "outputs": [
    {
     "data": {
      "text/html": [
       "<div>\n",
       "<style scoped>\n",
       "    .dataframe tbody tr th:only-of-type {\n",
       "        vertical-align: middle;\n",
       "    }\n",
       "\n",
       "    .dataframe tbody tr th {\n",
       "        vertical-align: top;\n",
       "    }\n",
       "\n",
       "    .dataframe thead th {\n",
       "        text-align: right;\n",
       "    }\n",
       "</style>\n",
       "<table border=\"1\" class=\"dataframe\">\n",
       "  <thead>\n",
       "    <tr style=\"text-align: right;\">\n",
       "      <th></th>\n",
       "      <th>Color</th>\n",
       "      <th>Size</th>\n",
       "      <th>Material</th>\n",
       "    </tr>\n",
       "  </thead>\n",
       "  <tbody>\n",
       "    <tr>\n",
       "      <th>0</th>\n",
       "      <td>red</td>\n",
       "      <td>small</td>\n",
       "      <td>wood</td>\n",
       "    </tr>\n",
       "    <tr>\n",
       "      <th>1</th>\n",
       "      <td>green</td>\n",
       "      <td>medium</td>\n",
       "      <td>metal</td>\n",
       "    </tr>\n",
       "    <tr>\n",
       "      <th>2</th>\n",
       "      <td>blue</td>\n",
       "      <td>large</td>\n",
       "      <td>plastic</td>\n",
       "    </tr>\n",
       "  </tbody>\n",
       "</table>\n",
       "</div>"
      ],
      "text/plain": [
       "   Color    Size Material\n",
       "0    red   small     wood\n",
       "1  green  medium    metal\n",
       "2   blue   large  plastic"
      ]
     },
     "execution_count": 9,
     "metadata": {},
     "output_type": "execute_result"
    }
   ],
   "source": [
    "df.head(5)"
   ]
  },
  {
   "cell_type": "code",
   "execution_count": 10,
   "id": "70ad9541",
   "metadata": {},
   "outputs": [],
   "source": [
    "#encoding\n",
    "from sklearn.preprocessing import OrdinalEncoder, LabelEncoder\n",
    "\n",
    "O_encoder = OrdinalEncoder()\n",
    "L_encoder = LabelEncoder()\n",
    "\n",
    "#using ordinal because Size have internal ordering\n",
    "df['encoded_sizze']=O_encoder.fit_transform(df[['Size']])\n",
    "\n",
    "\n"
   ]
  },
  {
   "cell_type": "code",
   "execution_count": 11,
   "id": "1f05146d",
   "metadata": {},
   "outputs": [],
   "source": [
    "df[['color_encoded','material_encoded']]= df[['Color','Material']].apply(L_encoder.fit_transform)"
   ]
  },
  {
   "cell_type": "code",
   "execution_count": 12,
   "id": "6c846d62",
   "metadata": {},
   "outputs": [
    {
     "data": {
      "text/html": [
       "<div>\n",
       "<style scoped>\n",
       "    .dataframe tbody tr th:only-of-type {\n",
       "        vertical-align: middle;\n",
       "    }\n",
       "\n",
       "    .dataframe tbody tr th {\n",
       "        vertical-align: top;\n",
       "    }\n",
       "\n",
       "    .dataframe thead th {\n",
       "        text-align: right;\n",
       "    }\n",
       "</style>\n",
       "<table border=\"1\" class=\"dataframe\">\n",
       "  <thead>\n",
       "    <tr style=\"text-align: right;\">\n",
       "      <th></th>\n",
       "      <th>Color</th>\n",
       "      <th>Size</th>\n",
       "      <th>Material</th>\n",
       "      <th>encoded_sizze</th>\n",
       "      <th>color_encoded</th>\n",
       "      <th>material_encoded</th>\n",
       "    </tr>\n",
       "  </thead>\n",
       "  <tbody>\n",
       "    <tr>\n",
       "      <th>0</th>\n",
       "      <td>red</td>\n",
       "      <td>small</td>\n",
       "      <td>wood</td>\n",
       "      <td>2.0</td>\n",
       "      <td>2</td>\n",
       "      <td>2</td>\n",
       "    </tr>\n",
       "    <tr>\n",
       "      <th>1</th>\n",
       "      <td>green</td>\n",
       "      <td>medium</td>\n",
       "      <td>metal</td>\n",
       "      <td>1.0</td>\n",
       "      <td>1</td>\n",
       "      <td>0</td>\n",
       "    </tr>\n",
       "    <tr>\n",
       "      <th>2</th>\n",
       "      <td>blue</td>\n",
       "      <td>large</td>\n",
       "      <td>plastic</td>\n",
       "      <td>0.0</td>\n",
       "      <td>0</td>\n",
       "      <td>1</td>\n",
       "    </tr>\n",
       "  </tbody>\n",
       "</table>\n",
       "</div>"
      ],
      "text/plain": [
       "   Color    Size Material  encoded_sizze  color_encoded  material_encoded\n",
       "0    red   small     wood            2.0              2                 2\n",
       "1  green  medium    metal            1.0              1                 0\n",
       "2   blue   large  plastic            0.0              0                 1"
      ]
     },
     "execution_count": 12,
     "metadata": {},
     "output_type": "execute_result"
    }
   ],
   "source": [
    "df.head()"
   ]
  },
  {
   "cell_type": "code",
   "execution_count": 14,
   "id": "8b174dd3",
   "metadata": {},
   "outputs": [],
   "source": [
    "#ques5\n",
    "\n",
    "import seaborn as sns\n",
    "\n",
    "data = sns.load_dataset('iris')"
   ]
  },
  {
   "cell_type": "code",
   "execution_count": 17,
   "id": "a681b572",
   "metadata": {},
   "outputs": [
    {
     "data": {
      "text/html": [
       "<div>\n",
       "<style scoped>\n",
       "    .dataframe tbody tr th:only-of-type {\n",
       "        vertical-align: middle;\n",
       "    }\n",
       "\n",
       "    .dataframe tbody tr th {\n",
       "        vertical-align: top;\n",
       "    }\n",
       "\n",
       "    .dataframe thead th {\n",
       "        text-align: right;\n",
       "    }\n",
       "</style>\n",
       "<table border=\"1\" class=\"dataframe\">\n",
       "  <thead>\n",
       "    <tr style=\"text-align: right;\">\n",
       "      <th></th>\n",
       "      <th>sepal_length</th>\n",
       "      <th>sepal_width</th>\n",
       "      <th>petal_length</th>\n",
       "      <th>petal_width</th>\n",
       "    </tr>\n",
       "  </thead>\n",
       "  <tbody>\n",
       "    <tr>\n",
       "      <th>sepal_length</th>\n",
       "      <td>0.685694</td>\n",
       "      <td>-0.042434</td>\n",
       "      <td>1.274315</td>\n",
       "      <td>0.516271</td>\n",
       "    </tr>\n",
       "    <tr>\n",
       "      <th>sepal_width</th>\n",
       "      <td>-0.042434</td>\n",
       "      <td>0.189979</td>\n",
       "      <td>-0.329656</td>\n",
       "      <td>-0.121639</td>\n",
       "    </tr>\n",
       "    <tr>\n",
       "      <th>petal_length</th>\n",
       "      <td>1.274315</td>\n",
       "      <td>-0.329656</td>\n",
       "      <td>3.116278</td>\n",
       "      <td>1.295609</td>\n",
       "    </tr>\n",
       "    <tr>\n",
       "      <th>petal_width</th>\n",
       "      <td>0.516271</td>\n",
       "      <td>-0.121639</td>\n",
       "      <td>1.295609</td>\n",
       "      <td>0.581006</td>\n",
       "    </tr>\n",
       "  </tbody>\n",
       "</table>\n",
       "</div>"
      ],
      "text/plain": [
       "              sepal_length  sepal_width  petal_length  petal_width\n",
       "sepal_length      0.685694    -0.042434      1.274315     0.516271\n",
       "sepal_width      -0.042434     0.189979     -0.329656    -0.121639\n",
       "petal_length      1.274315    -0.329656      3.116278     1.295609\n",
       "petal_width       0.516271    -0.121639      1.295609     0.581006"
      ]
     },
     "execution_count": 17,
     "metadata": {},
     "output_type": "execute_result"
    }
   ],
   "source": [
    "#covariance matrix of numerical values\n",
    "\"\"\"\n",
    "It shows the relationship of variability between each other\n",
    "negative corelation means the feature move in opposite direction if positive means move(increase or decrease ) in same direction. \n",
    "\"\"\"\n",
    "data.iloc[:,:-1].cov()\n"
   ]
  },
  {
   "cell_type": "markdown",
   "id": "8754d1cc",
   "metadata": {},
   "source": [
    "#ques 6\n",
    "\n",
    "\"\"\"\n",
    "for 'Gender' (female and male) and 'Employment status'(unemployed/part-time/full-time) i'll use label encoding.\n",
    "\n",
    "for \"Education level\"(High school, Bachelar's/master's/ PHD) i'll use the Ordinal encoding because the level of Education have internal ordering itself.\n",
    "\"\"\""
   ]
  },
  {
   "cell_type": "code",
   "execution_count": null,
   "id": "67496296",
   "metadata": {},
   "outputs": [],
   "source": [
    "#ques7\n"
   ]
  }
 ],
 "metadata": {
  "kernelspec": {
   "display_name": "Python 3 (ipykernel)",
   "language": "python",
   "name": "python3"
  },
  "language_info": {
   "codemirror_mode": {
    "name": "ipython",
    "version": 3
   },
   "file_extension": ".py",
   "mimetype": "text/x-python",
   "name": "python",
   "nbconvert_exporter": "python",
   "pygments_lexer": "ipython3",
   "version": "3.11.5"
  }
 },
 "nbformat": 4,
 "nbformat_minor": 5
}
