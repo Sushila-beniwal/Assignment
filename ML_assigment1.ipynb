{
 "cells": [
  {
   "cell_type": "markdown",
   "id": "0a8e2552",
   "metadata": {},
   "source": [
    "#ques1\n",
    "#Artificial Intelligence: AI stands for Artificial Intelligence, and is basically the study/process which enables machines to mimic human behaviour through particular algorithm\n",
    "\n",
    "\n",
    "#Machine learning : AI stands for Artificial Intelligence, and is basically the study/process which enables machines to mimic human behaviour through particular algorithm\n",
    "\n",
    "\n",
    "#Dee learning: DL stands for Deep Learning, and is the study that makes use of Neural Networks(similar to neurons present in human brain) to imitate functionality just like a human brain."
   ]
  },
  {
   "cell_type": "markdown",
   "id": "fae3c275",
   "metadata": {},
   "source": [
    "#ques2\n",
    "\n",
    "#supervised machine learning:Supervised learning uses a training set to teach models to yield the desired output. This training dataset includes inputs and correct outputs, which allow the model to learn over time. The algorithm measures its accuracy through the loss function, adjusting until the error has been sufficiently minimized.\n",
    "\n",
    "#example:classification(image and object detection,spam detection),regression(predictive analysis)"
   ]
  },
  {
   "cell_type": "markdown",
   "id": "ff68afd3",
   "metadata": {},
   "source": [
    "#ques3 \n",
    "\n",
    "#unsupervised learning: Unsupervised learning, also known as unsupervised machine learning, uses machine learning (ML) algorithms to analyze and cluster unlabeled data sets. These algorithms discover hidden patterns or data groupings without the need for human intervention.\n",
    "\n",
    "#example: clustering algorithm(DBSCAN,k-means)\n",
    "\n"
   ]
  },
  {
   "cell_type": "markdown",
   "id": "dc02a7fb",
   "metadata": {},
   "source": [
    "#ques4\n",
    "#🔹Artificial Intelligence (AI) enables machines to think by understanding, learning from the data, and taking decisions based on patterns hidden in the data or make inferences that would otherwise be very difficult for humans to make manually. The end goal of using ML or DL is to create an AI application or machine as smart as humans.\n",
    "\n",
    "🔹Machine Learning (ML) is a subset of AI; it provides us statistical tools/techniques like Supervised, Unsupervised, and Reinforcement learning to explore and analyze the data.\n",
    "\n",
    "🔹Deep Learning (DL) is further a subset of ML, and the main idea behind it is to make machines learn by mimicking the human brain. Here, we create a multi neural network architecture with the help of different techniques like ANN, CNN, and RNN.\n",
    "\n",
    "🔹Data Science (DS) is basically drawing insights from structured and unstructured data either by using ML or DL or without these techniques. We can even use different visualization tools, statistics, and probability to gain these insights.\n"
   ]
  },
  {
   "cell_type": "markdown",
   "id": "f2906a60",
   "metadata": {},
   "source": [
    "#ques5\n",
    "#Supervised learning models consume data that has been prelabeled by humans. Unsupervised learning models discover patterns in data that hasn't been previously labeled. Semi-supervised learning models involve an iterative process that works with both labeled and unlabeled data."
   ]
  },
  {
   "cell_type": "markdown",
   "id": "3bc449d6",
   "metadata": {},
   "source": [
    "#ques6\n",
    "#The difference between the training set and the validation set is the training set is the largest corpus of your dataset that you reserve for training your model. After training, inference on these images will be taken with a grain of salt, since the model has already had a chance to look at and memorize the correct output.The validation set is a separate section of your dataset that you will use during training to get a sense of how well your model is doing on images that are not being used in training.After all of the training experiments have concluded, you probably have gotten a sense on how your model might do on the validation set. But it is important to remember that the validation set metrics may have influenced you during the creation of the model, and in this sense you might, as a designer, overfit the new model to the validation set."
   ]
  },
  {
   "cell_type": "markdown",
   "id": "4b08f86c",
   "metadata": {},
   "source": [
    "#ques7\n",
    "#Anomaly detection is a technique used to identify data points that are significantly different or “outliers” when compared to the majority of the data in a dataset.\n",
    "# Unsupervised anomaly detection occurs when there are no labeled anomalies in the training data, and the model needs to identify anomalies without prior knowledge of what constitutes an anomaly. The model’s task is to find data points that deviate significantly from the majority of the data, making it suitable for cases where anomalies are rare or poorly understood.\n"
   ]
  },
  {
   "cell_type": "markdown",
   "id": "4fbf189b",
   "metadata": {},
   "source": [
    "#ques8\n",
    "#supervised learning algorithm :linear regression,classification,decision tree,KNN\n",
    "#unsupervised learning algorithm :K-means-clustering,DBSCAN,hierarchical"
   ]
  }
 ],
 "metadata": {
  "kernelspec": {
   "display_name": "Python 3 (ipykernel)",
   "language": "python",
   "name": "python3"
  },
  "language_info": {
   "codemirror_mode": {
    "name": "ipython",
    "version": 3
   },
   "file_extension": ".py",
   "mimetype": "text/x-python",
   "name": "python",
   "nbconvert_exporter": "python",
   "pygments_lexer": "ipython3",
   "version": "3.11.5"
  }
 },
 "nbformat": 4,
 "nbformat_minor": 5
}
